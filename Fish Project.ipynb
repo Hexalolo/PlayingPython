{
 "cells": [
  {
   "cell_type": "markdown",
   "id": "6f5dff80-fbb3-46c6-8801-932656a7416e",
   "metadata": {},
   "source": [
    "Goal: to train my skills gained during Python course at Data Science studies.\n",
    "Program version: Jupyter Notebook 7.2.2 \n",
    "Data library : SASHELP/FISH – has 159 observations of fish, columns are named: Species, Weight, Length 1, Length 2, Length 3, Height, Width"
   ]
  },
  {
   "cell_type": "markdown",
   "id": "57aff289-d7e7-4fb4-b475-d08f65267cd6",
   "metadata": {},
   "source": [
    "Task 0\n",
    "Import a dataset fish.sas7bdat to pandas dataframe."
   ]
  },
  {
   "cell_type": "code",
   "execution_count": null,
   "id": "33405568-0f69-416c-a739-b81a47c6a7f6",
   "metadata": {},
   "outputs": [],
   "source": []
  },
  {
   "cell_type": "markdown",
   "id": "8b3ea65f-47f1-4f4e-81e1-90aa5f774d46",
   "metadata": {},
   "source": [
    "Task 1\n",
    "Calculate average length. Set as a new column Legth. Delete other length columns."
   ]
  },
  {
   "cell_type": "code",
   "execution_count": null,
   "id": "faa3047e-4a9d-4396-baab-8ec3b5156290",
   "metadata": {},
   "outputs": [],
   "source": []
  },
  {
   "cell_type": "markdown",
   "id": "5f65f714-bfb8-474e-908b-2c6a472fdde5",
   "metadata": {},
   "source": [
    "Task 2 \n",
    "Calculate average weight for each type of fish. Sort them in decreasing order. Present only 50 the heaviest fish."
   ]
  },
  {
   "cell_type": "code",
   "execution_count": null,
   "id": "ad1d9eec-ebcb-4d59-bbef-16096377a5bb",
   "metadata": {},
   "outputs": [],
   "source": []
  },
  {
   "cell_type": "markdown",
   "id": "1336eab4-d73c-44e2-b1f0-a6d4b3f98286",
   "metadata": {},
   "source": [
    "Task 3 \n",
    "Perform rounding of height and width with precision to decimals."
   ]
  },
  {
   "cell_type": "code",
   "execution_count": null,
   "id": "0d141794-0b6f-4d19-b7f8-f10952b85fb9",
   "metadata": {},
   "outputs": [],
   "source": []
  },
  {
   "cell_type": "markdown",
   "id": "9b3074b8-bee4-4e4f-aca5-8d68f1f6e123",
   "metadata": {},
   "source": [
    "Task 4\t\n",
    "Add a new column which has three first letters of the name of each fish."
   ]
  },
  {
   "cell_type": "code",
   "execution_count": null,
   "id": "1f4faf03-4146-463c-92a8-4e76b25a6e79",
   "metadata": {},
   "outputs": [],
   "source": []
  },
  {
   "cell_type": "markdown",
   "id": "d49417d3-59be-44ae-acae-a3b08195e4c3",
   "metadata": {},
   "source": [
    "Task 5\n",
    "Add a new column which has a random normal number from 1 to 12 assigned to each observation.\n",
    "Combine the column from task 4 and task 5 in order to create a new column Code in a form of “3SME”. \n",
    "Count how many observations will have “5BRE” code."
   ]
  },
  {
   "cell_type": "code",
   "execution_count": null,
   "id": "6fec35c9-7476-427f-a7b7-73af0220ebed",
   "metadata": {},
   "outputs": [],
   "source": []
  },
  {
   "cell_type": "markdown",
   "id": "ca74b5e5-2122-44d8-9cea-6d3cee149aa4",
   "metadata": {},
   "source": [
    "Task 6\n",
    "Read a new data table from txt file which contains fish name and geographic name according to the following scheme.\n",
    "Smelt, Pacific Ocean\n",
    "Pike, Lake Erie\n",
    "Perch, Lake Balkhash\n",
    "Whitefish, Atlantic Ocean\n",
    "Parkki, Mediterranean Sea\n",
    "Roach, Caspian Sea\n",
    "Bream, Volga River"
   ]
  },
  {
   "cell_type": "code",
   "execution_count": null,
   "id": "44bbc41a-f7cd-407e-a85c-fe32df1ad439",
   "metadata": {},
   "outputs": [],
   "source": []
  },
  {
   "cell_type": "markdown",
   "id": "c4d6f9e7-af23-42c2-a0f7-98fafd396f56",
   "metadata": {},
   "source": [
    "Task 7\n",
    "Merge the new data table with existing fish file."
   ]
  },
  {
   "cell_type": "code",
   "execution_count": null,
   "id": "a439a29d-9739-4b14-879d-7dacae826beb",
   "metadata": {},
   "outputs": [],
   "source": []
  },
  {
   "cell_type": "markdown",
   "id": "09152614-eb1e-4026-a515-cb4957818c3e",
   "metadata": {},
   "source": [
    "Task 8\n",
    "Save the complete fish table with 159 observations and new columns into an excel file."
   ]
  },
  {
   "cell_type": "code",
   "execution_count": null,
   "id": "f2b5d084-71d5-4d75-b841-aa8793792f2d",
   "metadata": {},
   "outputs": [],
   "source": []
  }
 ],
 "metadata": {
  "kernelspec": {
   "display_name": "Python 3 (ipykernel)",
   "language": "python",
   "name": "python3"
  },
  "language_info": {
   "codemirror_mode": {
    "name": "ipython",
    "version": 3
   },
   "file_extension": ".py",
   "mimetype": "text/x-python",
   "name": "python",
   "nbconvert_exporter": "python",
   "pygments_lexer": "ipython3",
   "version": "3.12.7"
  }
 },
 "nbformat": 4,
 "nbformat_minor": 5
}
